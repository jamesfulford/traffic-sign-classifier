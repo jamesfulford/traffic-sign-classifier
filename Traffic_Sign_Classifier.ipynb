{
 "cells": [
  {
   "cell_type": "markdown",
   "metadata": {},
   "source": [
    "# Self-Driving Car Engineer Nanodegree\n",
    "\n",
    "## Deep Learning\n",
    "\n",
    "## Project: Build a Traffic Sign Recognition Classifier"
   ]
  },
  {
   "cell_type": "markdown",
   "metadata": {},
   "source": [
    "---\n",
    "## Step 0: Load The Data"
   ]
  },
  {
   "cell_type": "code",
   "execution_count": 1,
   "metadata": {},
   "outputs": [
    {
     "name": "stdout",
     "output_type": "stream",
     "text": [
      "Loaded data.\n"
     ]
    }
   ],
   "source": [
    "import pickle\n",
    "import os\n",
    "\n",
    "data_dir = \"./traffic-signs-data/\"\n",
    "training_file = os.path.join(data_dir, \"train.p\")\n",
    "validation_file= os.path.join(data_dir, \"valid.p\")\n",
    "testing_file = os.path.join(data_dir, \"test.p\")\n",
    "\n",
    "with open(training_file, mode='rb') as f:\n",
    "    train = pickle.load(f)\n",
    "with open(validation_file, mode='rb') as f:\n",
    "    valid = pickle.load(f)\n",
    "with open(testing_file, mode='rb') as f:\n",
    "    test = pickle.load(f)\n",
    "\n",
    "X_train, y_train = train['features'], train['labels']\n",
    "X_valid, y_valid = valid['features'], valid['labels']\n",
    "X_test, y_test = test['features'], test['labels']\n",
    "print(\"Loaded data.\")"
   ]
  },
  {
   "cell_type": "markdown",
   "metadata": {},
   "source": [
    "---\n",
    "\n",
    "## Step 1: Dataset Summary & Exploration\n",
    "\n",
    "The pickled data is a dictionary with 4 key/value pairs:\n",
    "\n",
    "- `'features'` is a 4D array containing raw pixel data of the traffic sign images, (num examples, width, height, channels).\n",
    "- `'labels'` is a 1D array containing the label/class id of the traffic sign. The file `signnames.csv` contains id -> name mappings for each id.\n",
    "- `'sizes'` is a list containing tuples, (width, height) representing the original width and height the image.\n",
    "- `'coords'` is a list containing tuples, (x1, y1, x2, y2) representing coordinates of a bounding box around the sign in the image. **THESE COORDINATES ASSUME THE ORIGINAL IMAGE. THE PICKLED DATA CONTAINS RESIZED VERSIONS (32 by 32) OF THESE IMAGES**"
   ]
  },
  {
   "cell_type": "markdown",
   "metadata": {},
   "source": [
    "### Provide a Basic Summary of the Data Set Using Python, Numpy and/or Pandas"
   ]
  },
  {
   "cell_type": "code",
   "execution_count": 2,
   "metadata": {},
   "outputs": [
    {
     "name": "stdout",
     "output_type": "stream",
     "text": [
      "Number of training examples = 34799\n",
      "Number of validation examples = 4410\n",
      "Number of testing examples = 12630\n",
      "Image data shape = (32, 32, 3)\n",
      "Number of classes = 43\n"
     ]
    }
   ],
   "source": [
    "import numpy as np\n",
    "\n",
    "n_train = len(X_train)\n",
    "\n",
    "n_validation = len(X_valid)\n",
    "n_test = len(X_test)\n",
    "image_shape = X_train[0].shape\n",
    "\n",
    "classes = sorted(np.unique(y_train))\n",
    "n_classes = len(classes)\n",
    "\n",
    "print(\"Number of training examples =\", n_train)\n",
    "print(\"Number of validation examples =\", n_validation)\n",
    "print(\"Number of testing examples =\", n_test)\n",
    "print(\"Image data shape =\", image_shape)\n",
    "print(\"Number of classes =\", n_classes)"
   ]
  },
  {
   "cell_type": "markdown",
   "metadata": {},
   "source": [
    "### Build Class Mapping"
   ]
  },
  {
   "cell_type": "code",
   "execution_count": 3,
   "metadata": {},
   "outputs": [
    {
     "name": "stderr",
     "output_type": "stream",
     "text": [
      "/Users/jamesfulford/miniconda3/envs/carnd-term1/lib/python3.5/site-packages/ipykernel_launcher.py:3: FutureWarning: from_csv is deprecated. Please use read_csv(...) instead. Note that some of the default arguments are different, so please refer to the documentation for from_csv when changing your function calls\n",
      "  This is separate from the ipykernel package so we can avoid doing imports until\n"
     ]
    }
   ],
   "source": [
    "import pandas\n",
    "\n",
    "class_to_description = pandas.DataFrame.from_csv(\"./traffic-signs-data/signnames.csv\").to_dict('index')"
   ]
  },
  {
   "cell_type": "markdown",
   "metadata": {},
   "source": [
    "### Exploratory Visualization"
   ]
  },
  {
   "cell_type": "markdown",
   "metadata": {},
   "source": [
    "Visualize the German Traffic Signs Dataset using the pickled file(s)."
   ]
  },
  {
   "cell_type": "code",
   "execution_count": 4,
   "metadata": {},
   "outputs": [
    {
     "name": "stdout",
     "output_type": "stream",
     "text": [
      " 2: 2010 (Speed limit (50km/h))\n",
      " 1: 1980 (Speed limit (30km/h))\n",
      "13: 1920 (Yield)\n",
      "12: 1890 (Priority road)\n",
      "38: 1860 (Keep right)\n",
      "10: 1800 (No passing for vehicles over 3.5 metric tons)\n",
      " 4: 1770 (Speed limit (70km/h))\n",
      " 5: 1650 (Speed limit (80km/h))\n",
      "25: 1350 (Road work)\n",
      " 9: 1320 (No passing)\n",
      " 7: 1290 (Speed limit (100km/h))\n",
      " 8: 1260 (Speed limit (120km/h))\n",
      " 3: 1260 (Speed limit (60km/h))\n",
      "11: 1170 (Right-of-way at the next intersection)\n",
      "35: 1080 (Ahead only)\n",
      "18: 1080 (General caution)\n",
      "17:  990 (No entry)\n",
      "31:  690 (Wild animals crossing)\n",
      "14:  690 (Stop)\n",
      "33:  599 (Turn right ahead)\n",
      "26:  540 (Traffic signals)\n",
      "15:  540 (No vehicles)\n",
      "28:  480 (Children crossing)\n",
      "23:  450 (Slippery road)\n",
      "41:  420 (End of no passing)\n",
      "30:  390 (Beware of ice/snow)\n",
      "34:  360 (Turn left ahead)\n",
      "16:  360 (Vehicles over 3.5 metric tons prohibited)\n",
      " 6:  360 (End of speed limit (80km/h))\n",
      "36:  330 (Go straight or right)\n",
      "22:  330 (Bumpy road)\n",
      "40:  300 (Roundabout mandatory)\n",
      "20:  300 (Dangerous curve to the right)\n",
      "39:  270 (Keep left)\n",
      "21:  270 (Double curve)\n",
      "29:  240 (Bicycles crossing)\n",
      "24:  240 (Road narrows on the right)\n",
      "32:  210 (End of all speed and passing limits)\n",
      "27:  210 (Pedestrians)\n",
      "37:  180 (Go straight or left)\n",
      "19:  180 (Dangerous curve to the left)\n",
      " 0:  180 (Speed limit (20km/h))\n"
     ]
    },
    {
     "data": {
      "image/png": "[encoded data removed]",
      "text/plain": [
       "<Figure size 432x288 with 1 Axes>"
      ]
     },
     "metadata": {
      "needs_background": "light"
     },
     "output_type": "display_data"
    }
   ],
   "source": [
    "import matplotlib.pyplot as plt\n",
    "%matplotlib inline\n",
    "\n",
    "frequencies, classes, *_ = plt.hist(y_train, bins=np.arange(y_train.min(), y_train.max() + 1))\n",
    "for (freq, cls) in reversed(sorted(zip(frequencies, classes))):\n",
    "    print(\"{}: {} ({})\".format(\n",
    "        str(cls).rjust(2, \" \"), \n",
    "        str(int(freq)).rjust(4, \" \"),\n",
    "        class_to_description[cls][\"SignName\"],\n",
    "    ))\n",
    "\n",
    "plt.savefig(\"./artifacts/training_data_distribution.png\")"
   ]
  },
  {
   "cell_type": "code",
   "execution_count": 5,
   "metadata": {},
   "outputs": [
    {
     "name": "stdout",
     "output_type": "stream",
     "text": [
      "13:  240 (Yield)\n",
      " 2:  240 (Speed limit (50km/h))\n",
      " 1:  240 (Speed limit (30km/h))\n",
      "38:  210 (Keep right)\n",
      "12:  210 (Priority road)\n",
      "10:  210 (No passing for vehicles over 3.5 metric tons)\n",
      " 5:  210 (Speed limit (80km/h))\n",
      " 4:  210 (Speed limit (70km/h))\n",
      "25:  150 (Road work)\n",
      "11:  150 (Right-of-way at the next intersection)\n",
      " 9:  150 (No passing)\n",
      " 8:  150 (Speed limit (120km/h))\n",
      " 7:  150 (Speed limit (100km/h))\n",
      " 3:  150 (Speed limit (60km/h))\n",
      "35:  120 (Ahead only)\n",
      "18:  120 (General caution)\n",
      "17:  120 (No entry)\n",
      "33:   90 (Turn right ahead)\n",
      "31:   90 (Wild animals crossing)\n",
      "15:   90 (No vehicles)\n",
      "14:   90 (Stop)\n",
      "41:   60 (End of no passing)\n",
      "40:   60 (Roundabout mandatory)\n",
      "36:   60 (Go straight or right)\n",
      "34:   60 (Turn left ahead)\n",
      "30:   60 (Beware of ice/snow)\n",
      "28:   60 (Children crossing)\n",
      "26:   60 (Traffic signals)\n",
      "23:   60 (Slippery road)\n",
      "22:   60 (Bumpy road)\n",
      "21:   60 (Double curve)\n",
      "20:   60 (Dangerous curve to the right)\n",
      "16:   60 (Vehicles over 3.5 metric tons prohibited)\n",
      " 6:   60 (End of speed limit (80km/h))\n",
      "39:   30 (Keep left)\n",
      "37:   30 (Go straight or left)\n",
      "32:   30 (End of all speed and passing limits)\n",
      "29:   30 (Bicycles crossing)\n",
      "27:   30 (Pedestrians)\n",
      "24:   30 (Road narrows on the right)\n",
      "19:   30 (Dangerous curve to the left)\n",
      " 0:   30 (Speed limit (20km/h))\n"
     ]
    },
    {
     "data": {
      "image/png": "[encoded data removed]",
      "text/plain": [
       "<Figure size 432x288 with 1 Axes>"
      ]
     },
     "metadata": {
      "needs_background": "light"
     },
     "output_type": "display_data"
    }
   ],
   "source": [
    "frequencies, classes, *_ = plt.hist(y_valid, bins=np.arange(y_valid.min(), y_valid.max() + 1))\n",
    "for (freq, cls) in reversed(sorted(zip(frequencies, classes))):\n",
    "    print(\"{}: {} ({})\".format(\n",
    "        str(cls).rjust(2, \" \"), \n",
    "        str(int(freq)).rjust(4, \" \"),\n",
    "        class_to_description[cls][\"SignName\"],\n",
    "    ))\n",
    "\n",
    "plt.savefig(\"./artifacts/validation_data_distribution.png\")"
   ]
  },
  {
   "cell_type": "code",
   "execution_count": 6,
   "metadata": {},
   "outputs": [
    {
     "name": "stdout",
     "output_type": "stream",
     "text": [
      " 2:  750 (Speed limit (50km/h))\n",
      "13:  720 (Yield)\n",
      " 1:  720 (Speed limit (30km/h))\n",
      "38:  690 (Keep right)\n",
      "12:  690 (Priority road)\n",
      "10:  660 (No passing for vehicles over 3.5 metric tons)\n",
      " 4:  660 (Speed limit (70km/h))\n",
      " 5:  630 (Speed limit (80km/h))\n",
      "25:  480 (Road work)\n",
      " 9:  480 (No passing)\n",
      " 8:  450 (Speed limit (120km/h))\n",
      " 7:  450 (Speed limit (100km/h))\n",
      " 3:  450 (Speed limit (60km/h))\n",
      "11:  420 (Right-of-way at the next intersection)\n",
      "35:  390 (Ahead only)\n",
      "18:  390 (General caution)\n",
      "17:  360 (No entry)\n",
      "31:  270 (Wild animals crossing)\n",
      "14:  270 (Stop)\n",
      "33:  210 (Turn right ahead)\n",
      "15:  210 (No vehicles)\n",
      "26:  180 (Traffic signals)\n",
      "41:  150 (End of no passing)\n",
      "30:  150 (Beware of ice/snow)\n",
      "28:  150 (Children crossing)\n",
      "23:  150 (Slippery road)\n",
      "16:  150 (Vehicles over 3.5 metric tons prohibited)\n",
      " 6:  150 (End of speed limit (80km/h))\n",
      "36:  120 (Go straight or right)\n",
      "34:  120 (Turn left ahead)\n",
      "22:  120 (Bumpy road)\n",
      "40:   90 (Roundabout mandatory)\n",
      "39:   90 (Keep left)\n",
      "29:   90 (Bicycles crossing)\n",
      "24:   90 (Road narrows on the right)\n",
      "21:   90 (Double curve)\n",
      "20:   90 (Dangerous curve to the right)\n",
      "37:   60 (Go straight or left)\n",
      "32:   60 (End of all speed and passing limits)\n",
      "27:   60 (Pedestrians)\n",
      "19:   60 (Dangerous curve to the left)\n",
      " 0:   60 (Speed limit (20km/h))\n"
     ]
    },
    {
     "data": {
      "image/png": "[encoded data removed]",
      "text/plain": [
       "<Figure size 432x288 with 1 Axes>"
      ]
     },
     "metadata": {
      "needs_background": "light"
     },
     "output_type": "display_data"
    }
   ],
   "source": [
    "frequencies, classes, *_ = plt.hist(y_test, bins=np.arange(y_test.min(), y_test.max() + 1))\n",
    "for (freq, cls) in reversed(sorted(zip(frequencies, classes))):\n",
    "    print(\"{}: {} ({})\".format(\n",
    "        str(cls).rjust(2, \" \"), \n",
    "        str(int(freq)).rjust(4, \" \"),\n",
    "        class_to_description[cls][\"SignName\"],\n",
    "    ))\n",
    "\n",
    "plt.savefig(\"./artifacts/test_data_distribution.png\")"
   ]
  },
  {
   "cell_type": "markdown",
   "metadata": {},
   "source": [
    "----\n",
    "\n",
    "## Step 2: Design and Test a Model Architecture\n",
    "\n",
    "Design and implement a deep learning model that learns to recognize traffic signs. Train and test your model on the [German Traffic Sign Dataset](http://benchmark.ini.rub.de/?section=gtsrb&subsection=dataset).\n",
    "\n",
    "The LeNet-5 implementation is my starting point.\n",
    "\n",
    "There are various aspects to consider when thinking about this problem:\n",
    "\n",
    "- Neural network architecture (is the network over or underfitting?)\n",
    "- Play around preprocessing techniques (normalization, rgb to grayscale, etc)\n",
    "- Number of examples per label (some have more than others).\n",
    "- Generate fake data."
   ]
  },
  {
   "cell_type": "markdown",
   "metadata": {},
   "source": [
    "### Pre-process"
   ]
  },
  {
   "cell_type": "code",
   "execution_count": 7,
   "metadata": {},
   "outputs": [],
   "source": [
    "from sklearn.utils import shuffle\n",
    "\n",
    "def preprocess(X, y):\n",
    "    \"\"\"\n",
    "    Pipeline for pre-processing images along with their labels\n",
    "    \"\"\"\n",
    "    # Normalizing values to be [-1, 1]\n",
    "    X_ret = np.subtract(X, 128.) / 128\n",
    "    \n",
    "    # Shuffling data\n",
    "    return X_ret, y\n",
    "\n",
    "X_train, y_train = preprocess(X_train, y_train)"
   ]
  },
  {
   "cell_type": "markdown",
   "metadata": {},
   "source": [
    "### Model Architecture"
   ]
  },
  {
   "cell_type": "code",
   "execution_count": 8,
   "metadata": {},
   "outputs": [],
   "source": [
    "import tensorflow as tf\n",
    "from tensorflow.contrib.layers import flatten\n",
    "\n",
    "\n",
    "def Model(x, dropout_rate: \"tensor\", initial_shape, n_classes=43, mu=0, sigma=0.1):\n",
    "    # Layer 1: Convolutional.\n",
    "    in_x, in_y, in_depth = initial_shape\n",
    "    conv1_W = tf.Variable(tf.truncated_normal(\n",
    "        shape=(5, 5, in_depth, 10), \n",
    "        mean=mu, \n",
    "        stddev=sigma,\n",
    "    ))\n",
    "    conv1_b = tf.Variable(tf.zeros(10))\n",
    "    conv1 = tf.nn.conv2d(\n",
    "        x, \n",
    "        conv1_W, \n",
    "        strides=[1, 1, 1, 1], \n",
    "        padding='VALID'\n",
    "    ) + conv1_b\n",
    "    conv1 = tf.nn.relu(conv1)\n",
    "    conv1 = tf.nn.max_pool(\n",
    "        conv1, \n",
    "        ksize=[1, 2, 2, 1], \n",
    "        strides=[1, 2, 2, 1], \n",
    "        padding='VALID',\n",
    "    )\n",
    "\n",
    "    # Layer 2: Convolutional.\n",
    "    conv2_W = tf.Variable(tf.truncated_normal(\n",
    "        shape=(5, 5, 10, 16), \n",
    "        mean=mu, \n",
    "        stddev=sigma,\n",
    "    ))\n",
    "    conv2_b = tf.Variable(tf.zeros(16))\n",
    "    conv2 = tf.nn.conv2d(\n",
    "        conv1,\n",
    "        conv2_W,\n",
    "        strides=[1, 1, 1, 1], \n",
    "        padding='VALID',\n",
    "    ) + conv2_b\n",
    "    conv2 = tf.nn.relu(conv2)\n",
    "    conv2 = tf.nn.max_pool(\n",
    "        conv2, \n",
    "        ksize=[1, 2, 2, 1], \n",
    "        strides=[1, 2, 2, 1], \n",
    "        padding='VALID',\n",
    "    )\n",
    "\n",
    "    # Flatten.\n",
    "    fc0 = flatten(conv2)\n",
    "\n",
    "    # Layer 3: Fully Connected.\n",
    "    fc1_W = tf.Variable(tf.truncated_normal(\n",
    "        shape=(400, 190), \n",
    "        mean=mu, \n",
    "        stddev=sigma,\n",
    "    ))\n",
    "    fc1_b = tf.Variable(tf.zeros(190))\n",
    "    fc1 = tf.matmul(fc0, fc1_W) + fc1_b\n",
    "    fc1 = tf.nn.relu(fc1)\n",
    "    fc1 = tf.nn.dropout(fc1, dropout_rate)\n",
    "\n",
    "    # Layer 4: Fully Connected.\n",
    "    fc2_W = tf.Variable(tf.truncated_normal(\n",
    "        shape=(190, 90), \n",
    "        mean=mu, \n",
    "        stddev=sigma,\n",
    "    ))\n",
    "    fc2_b = tf.Variable(tf.zeros(90))\n",
    "    fc2 = tf.matmul(fc1, fc2_W) + fc2_b\n",
    "    fc2 = tf.nn.relu(fc2)\n",
    "    fc2 = tf.nn.dropout(fc2, dropout_rate)\n",
    "\n",
    "    # Layer 5: Fully Connected.\n",
    "    fc3_W = tf.Variable(tf.truncated_normal(\n",
    "        shape=(90, n_classes), \n",
    "        mean=mu, \n",
    "        stddev=sigma,\n",
    "    ))\n",
    "    fc3_b = tf.Variable(tf.zeros(n_classes))\n",
    "    logits = tf.matmul(fc2, fc3_W) + fc3_b\n",
    "\n",
    "    return logits\n"
   ]
  },
  {
   "cell_type": "markdown",
   "metadata": {},
   "source": [
    "### Train and Validate"
   ]
  },
  {
   "cell_type": "code",
   "execution_count": 9,
   "metadata": {},
   "outputs": [
    {
     "name": "stdout",
     "output_type": "stream",
     "text": [
      "Ready.\n"
     ]
    }
   ],
   "source": [
    "rate = 0.001\n",
    "initial_shape = (32, 32, 3)\n",
    "\n",
    "x = tf.placeholder(tf.float32, (None, *initial_shape))\n",
    "y = tf.placeholder(tf.int32, (None))\n",
    "one_hot_y = tf.one_hot(y, n_classes)\n",
    "keep_prob = tf.placeholder(tf.float32)\n",
    "logits = Model(x, keep_prob, initial_shape, n_classes=n_classes)\n",
    "\n",
    "cross_entropy = tf.nn.softmax_cross_entropy_with_logits(labels=one_hot_y, logits=logits)\n",
    "loss_operation = tf.reduce_mean(cross_entropy)\n",
    "optimizer = tf.train.AdamOptimizer(learning_rate = rate)\n",
    "training_operation = optimizer.minimize(loss_operation)\n",
    "\n",
    "correct_prediction = tf.equal(tf.argmax(logits, 1), tf.argmax(one_hot_y, 1))\n",
    "accuracy_operation = tf.reduce_mean(tf.cast(correct_prediction, tf.float32))\n",
    "saver = tf.train.Saver()\n",
    "\n",
    "def evaluate(X_data, y_data, kp, batch_size=128):\n",
    "    \"\"\"Run inside a session\"\"\"\n",
    "    num_examples = len(X_data)\n",
    "    total_accuracy = 0\n",
    "    sess = tf.get_default_session()\n",
    "    for offset in range(0, num_examples, batch_size):\n",
    "        batch_x, batch_y = X_data[offset:offset + batch_size], y_data[offset:offset + batch_size]\n",
    "        accuracy = sess.run(accuracy_operation, feed_dict={x: batch_x, y: batch_y, keep_prob: kp})\n",
    "        total_accuracy += (accuracy * len(batch_x))\n",
    "    return total_accuracy / num_examples\n",
    "\n",
    "print(\"Ready.\")"
   ]
  },
  {
   "cell_type": "code",
   "execution_count": 10,
   "metadata": {},
   "outputs": [
    {
     "name": "stdout",
     "output_type": "stream",
     "text": [
      "Training...\n",
      "\n",
      "EPOCH 1 ...\n",
      "Validation Accuracy = 0.348\n",
      "\n",
      "EPOCH 2 ...\n",
      "Validation Accuracy = 0.622\n",
      "\n",
      "EPOCH 3 ...\n",
      "Validation Accuracy = 0.749\n",
      "\n",
      "EPOCH 4 ...\n",
      "Validation Accuracy = 0.806\n",
      "\n",
      "EPOCH 5 ...\n",
      "Validation Accuracy = 0.831\n",
      "\n",
      "EPOCH 6 ...\n",
      "Validation Accuracy = 0.849\n",
      "\n",
      "EPOCH 7 ...\n",
      "Validation Accuracy = 0.880\n",
      "\n",
      "EPOCH 8 ...\n",
      "Validation Accuracy = 0.881\n",
      "\n",
      "EPOCH 9 ...\n",
      "Validation Accuracy = 0.896\n",
      "\n",
      "EPOCH 10 ...\n",
      "Validation Accuracy = 0.898\n",
      "\n",
      "EPOCH 11 ...\n",
      "Validation Accuracy = 0.909\n",
      "\n",
      "EPOCH 12 ...\n",
      "Validation Accuracy = 0.913\n",
      "\n",
      "EPOCH 13 ...\n",
      "Validation Accuracy = 0.916\n",
      "\n",
      "EPOCH 14 ...\n",
      "Validation Accuracy = 0.926\n",
      "\n",
      "EPOCH 15 ...\n",
      "Validation Accuracy = 0.930\n",
      "\n",
      "EPOCH 16 ...\n",
      "Validation Accuracy = 0.929\n",
      "\n",
      "EPOCH 17 ...\n",
      "Validation Accuracy = 0.931\n",
      "\n",
      "Model saved\n",
      "EPOCH 18 ...\n",
      "Validation Accuracy = 0.931\n",
      "\n",
      "Model saved\n",
      "EPOCH 19 ...\n",
      "Validation Accuracy = 0.931\n",
      "\n",
      "Model saved\n",
      "EPOCH 20 ...\n",
      "Validation Accuracy = 0.935\n",
      "\n",
      "Model saved\n",
      "EPOCH 21 ...\n",
      "Validation Accuracy = 0.938\n",
      "\n",
      "Model saved\n",
      "EPOCH 22 ...\n",
      "Validation Accuracy = 0.937\n",
      "\n",
      "Model saved\n",
      "EPOCH 23 ...\n",
      "Validation Accuracy = 0.937\n",
      "\n",
      "Model saved\n",
      "EPOCH 24 ...\n",
      "Validation Accuracy = 0.943\n",
      "\n",
      "Model saved\n",
      "EPOCH 25 ...\n",
      "Validation Accuracy = 0.939\n",
      "\n",
      "Model saved\n",
      "EPOCH 26 ...\n",
      "Validation Accuracy = 0.938\n",
      "\n",
      "Model saved\n",
      "EPOCH 27 ...\n",
      "Validation Accuracy = 0.942\n",
      "\n",
      "Model saved\n",
      "EPOCH 28 ...\n",
      "Validation Accuracy = 0.944\n",
      "\n",
      "Model saved\n",
      "EPOCH 29 ...\n",
      "Validation Accuracy = 0.938\n",
      "\n",
      "Model saved\n",
      "EPOCH 30 ...\n",
      "Validation Accuracy = 0.943\n",
      "\n",
      "Model saved\n",
      "EPOCH 31 ...\n",
      "Validation Accuracy = 0.943\n",
      "\n",
      "Model saved\n",
      "EPOCH 32 ...\n",
      "Validation Accuracy = 0.945\n",
      "\n",
      "Model saved\n",
      "EPOCH 33 ...\n",
      "Validation Accuracy = 0.946\n",
      "\n",
      "Model saved\n",
      "EPOCH 34 ...\n",
      "Validation Accuracy = 0.950\n",
      "\n",
      "Model saved\n",
      "EPOCH 35 ...\n",
      "Validation Accuracy = 0.949\n",
      "\n",
      "Model saved\n",
      "EPOCH 36 ...\n",
      "Validation Accuracy = 0.949\n",
      "\n",
      "Model saved\n",
      "EPOCH 37 ...\n",
      "Validation Accuracy = 0.944\n",
      "\n",
      "Model saved\n",
      "EPOCH 38 ...\n",
      "Validation Accuracy = 0.947\n",
      "\n",
      "Model saved\n",
      "EPOCH 39 ...\n",
      "Validation Accuracy = 0.945\n",
      "\n",
      "Model saved\n",
      "EPOCH 40 ...\n",
      "Validation Accuracy = 0.947\n",
      "\n",
      "Model saved\n"
     ]
    }
   ],
   "source": [
    "EPOCHS = 40\n",
    "BATCH_SIZE = 512\n",
    "\n",
    "with tf.Session() as sess:\n",
    "    sess.run(tf.global_variables_initializer())\n",
    "    num_examples = len(X_train)\n",
    "    \n",
    "    print(\"Training...\")\n",
    "    print()\n",
    "    for i in range(EPOCHS):\n",
    "        X_train, y_train = shuffle(X_train, y_train)\n",
    "        for offset in range(0, num_examples, BATCH_SIZE):\n",
    "            end = offset + BATCH_SIZE\n",
    "            batch_x, batch_y = X_train[offset:end], y_train[offset:end]\n",
    "            sess.run(training_operation, feed_dict={x: batch_x, y: batch_y, keep_prob: 0.5})\n",
    "            \n",
    "        validation_accuracy = evaluate(X_valid, y_valid, 1.0, batch_size=BATCH_SIZE)\n",
    "        print(\"EPOCH {} ...\".format(i+1))\n",
    "        print(\"Validation Accuracy = {:.3f}\".format(validation_accuracy))\n",
    "        print()\n",
    "        if (validation_accuracy > .93):\n",
    "            saver.save(sess, \"./models/model.{:.3f}.model\".format(validation_accuracy))\n",
    "            print(\"Model saved\")"
   ]
  },
  {
   "cell_type": "markdown",
   "metadata": {},
   "source": [
    "### Test and Retrieve Accuracies"
   ]
  },
  {
   "cell_type": "code",
   "execution_count": 11,
   "metadata": {},
   "outputs": [
    {
     "name": "stdout",
     "output_type": "stream",
     "text": [
      "INFO:tensorflow:Restoring parameters from ./models/model.0.950.model\n",
      "Training Data Accuracy: 99.7\n",
      "Validation Data Accuracy: 95.0\n",
      "Test Data Accuracy: 92.7\n"
     ]
    }
   ],
   "source": [
    "from matplotlib import image as mpimg\n",
    "\n",
    "training_accuracy = 0.\n",
    "validation_accuracy = 0.\n",
    "test_accuracy = 0.\n",
    "with tf.Session() as sess:\n",
    "    saver.restore(sess, \"./models/model.0.950.model\")  # manually selected\n",
    "\n",
    "    training_accuracy = evaluate(X_train, y_train, 1.0, batch_size=BATCH_SIZE)\n",
    "    validation_accuracy = evaluate(X_valid, y_valid, 1.0, batch_size=BATCH_SIZE)\n",
    "    test_accuracy = evaluate(X_test, y_test, 1.0, batch_size=BATCH_SIZE)\n",
    "    \n",
    "    print(\"Training Data Accuracy: {:.1f}\".format(training_accuracy * 100.))\n",
    "    print(\"Validation Data Accuracy: {:.1f}\".format(validation_accuracy * 100.))\n",
    "    print(\"Test Data Accuracy: {:.1f}\".format(test_accuracy * 100.))\n"
   ]
  },
  {
   "cell_type": "markdown",
   "metadata": {},
   "source": [
    "---\n",
    "\n",
    "## Step 3: Test a Model on New Images\n",
    "\n",
    "New images are from the internet, downloaded from here: http://benchmark.ini.rub.de/?section=gtsdb&subsection=dataset (had to manually edit the images to focus on a sign and be 32x32 before feeding into my classifier). The website's full dataset download also includes a csv mapping signs in images to classifications, so I can compare the answers (looks like the same class-to-sign-name mapping is used - talk about consistency).\n",
    "\n",
    "The file `signnames.csv` is useful here because it contains mappings from the class id to the actual sign name. I built the mapping near the beginning."
   ]
  },
  {
   "cell_type": "code",
   "execution_count": 13,
   "metadata": {},
   "outputs": [
    {
     "name": "stdout",
     "output_type": "stream",
     "text": [
      "INFO:tensorflow:Restoring parameters from ./models/model.0.950.model\n"
     ]
    }
   ],
   "source": [
    "from matplotlib import image as mpimg\n",
    "from glob import glob\n",
    "\n",
    "image_files = sorted(glob(\"./sample_images/*\"))\n",
    "images = list(map(mpimg.imread, image_files))\n",
    "\n",
    "soft = tf.nn.softmax(logits)\n",
    "top_k = tf.nn.top_k(soft, 5)\n",
    "\n",
    "top_k_value = None\n",
    "with tf.Session() as sess:\n",
    "    saver.restore(sess, \"./models/model.0.950.model\")  # manually selected\n",
    "    # `0.941` indicates 94.1% accuracy on the validation set\n",
    "\n",
    "    top_k_value = sess.run(\n",
    "        top_k,\n",
    "        feed_dict={x: images, keep_prob: 1.0}\n",
    "    )\n",
    "\n",
    "ranking_assuredness = top_k_value[0]\n",
    "ranking_indexes = top_k_value[1]\n",
    "\n",
    "correct = [11, 40, 39, 4, 21]  # obtained from downloaded csv with classifications\n",
    "\n",
    "def show_image(index):\n",
    "    plt.imshow(images[index])\n",
    "    print(\"Actual: {} ({})\".format(correct[index], class_to_description[correct[index]][\"SignName\"]))\n",
    "    for (cls, assuredness) in zip(ranking_indexes[index], ranking_assuredness[index]):\n",
    "        print(\"{0} (class: {1}) {2:.2f} {3}\".format(class_to_description[cls][\"SignName\"], cls, assuredness, \"(correct)\" if correct[index] == cls else \"\"))"
   ]
  },
  {
   "cell_type": "code",
   "execution_count": 14,
   "metadata": {},
   "outputs": [
    {
     "name": "stdout",
     "output_type": "stream",
     "text": [
      "Actual: 11 (Right-of-way at the next intersection)\n",
      "Speed limit (30km/h) (class: 1) 1.00 \n",
      "Speed limit (20km/h) (class: 0) 0.00 \n",
      "Speed limit (50km/h) (class: 2) 0.00 \n",
      "Speed limit (60km/h) (class: 3) 0.00 \n",
      "Speed limit (70km/h) (class: 4) 0.00 \n"
     ]
    },
    {
     "data": {
      "image/png": "[encoded data removed]",
      "text/plain": [
       "<Figure size 432x288 with 1 Axes>"
      ]
     },
     "metadata": {
      "needs_background": "light"
     },
     "output_type": "display_data"
    }
   ],
   "source": [
    "show_image(0)"
   ]
  },
  {
   "cell_type": "code",
   "execution_count": 15,
   "metadata": {},
   "outputs": [
    {
     "name": "stdout",
     "output_type": "stream",
     "text": [
      "Actual: 40 (Roundabout mandatory)\n",
      "Turn left ahead (class: 34) 1.00 \n",
      "Speed limit (20km/h) (class: 0) 0.00 \n",
      "Speed limit (30km/h) (class: 1) 0.00 \n",
      "Speed limit (50km/h) (class: 2) 0.00 \n",
      "Speed limit (60km/h) (class: 3) 0.00 \n"
     ]
    },
    {
     "data": {
      "image/png": "[encoded data removed]",
      "text/plain": [
       "<Figure size 432x288 with 1 Axes>"
      ]
     },
     "metadata": {
      "needs_background": "light"
     },
     "output_type": "display_data"
    }
   ],
   "source": [
    "show_image(1)"
   ]
  },
  {
   "cell_type": "code",
   "execution_count": 16,
   "metadata": {},
   "outputs": [
    {
     "name": "stdout",
     "output_type": "stream",
     "text": [
      "Actual: 39 (Keep left)\n",
      "Keep left (class: 39) 1.00 (correct)\n",
      "Speed limit (20km/h) (class: 0) 0.00 \n",
      "Speed limit (30km/h) (class: 1) 0.00 \n",
      "Speed limit (50km/h) (class: 2) 0.00 \n",
      "Speed limit (60km/h) (class: 3) 0.00 \n"
     ]
    },
    {
     "data": {
      "image/png": "[encoded data removed]",
      "text/plain": [
       "<Figure size 432x288 with 1 Axes>"
      ]
     },
     "metadata": {
      "needs_background": "light"
     },
     "output_type": "display_data"
    }
   ],
   "source": [
    "show_image(2)"
   ]
  },
  {
   "cell_type": "code",
   "execution_count": 17,
   "metadata": {},
   "outputs": [
    {
     "name": "stdout",
     "output_type": "stream",
     "text": [
      "Actual: 4 (Speed limit (70km/h))\n",
      "Speed limit (70km/h) (class: 4) 1.00 (correct)\n",
      "Speed limit (20km/h) (class: 0) 0.00 \n",
      "Speed limit (30km/h) (class: 1) 0.00 \n",
      "Speed limit (50km/h) (class: 2) 0.00 \n",
      "Speed limit (60km/h) (class: 3) 0.00 \n"
     ]
    },
    {
     "data": {
      "image/png": "[encoded data removed]",
      "text/plain": [
       "<Figure size 432x288 with 1 Axes>"
      ]
     },
     "metadata": {
      "needs_background": "light"
     },
     "output_type": "display_data"
    }
   ],
   "source": [
    "show_image(3)"
   ]
  },
  {
   "cell_type": "code",
   "execution_count": 18,
   "metadata": {},
   "outputs": [
    {
     "name": "stdout",
     "output_type": "stream",
     "text": [
      "Actual: 21 (Double curve)\n",
      "Double curve (class: 21) 1.00 (correct)\n",
      "Speed limit (20km/h) (class: 0) 0.00 \n",
      "Speed limit (30km/h) (class: 1) 0.00 \n",
      "Speed limit (50km/h) (class: 2) 0.00 \n",
      "Speed limit (60km/h) (class: 3) 0.00 \n"
     ]
    },
    {
     "data": {
      "image/png": "[encoded data removed]",
      "text/plain": [
       "<Figure size 432x288 with 1 Axes>"
      ]
     },
     "metadata": {
      "needs_background": "light"
     },
     "output_type": "display_data"
    }
   ],
   "source": [
    "show_image(4)"
   ]
  },
  {
   "cell_type": "code",
   "execution_count": 19,
   "metadata": {},
   "outputs": [
    {
     "name": "stdout",
     "output_type": "stream",
     "text": [
      "0.6\n"
     ]
    }
   ],
   "source": [
    "# Accuracy on 5 images:\n",
    "picks = list(map(lambda r: r[0], ranking_indexes))\n",
    "matches = list(map(lambda m: m[0] == m[1], zip(picks, correct)))\n",
    "print(len(list(filter(lambda x: x, matches))) / float(len(matches)))"
   ]
  },
  {
   "cell_type": "code",
   "execution_count": null,
   "metadata": {},
   "outputs": [],
   "source": []
  }
 ],
 "metadata": {
  "anaconda-cloud": {},
  "kernelspec": {
   "display_name": "Python 3",
   "language": "python",
   "name": "python3"
  },
  "language_info": {
   "codemirror_mode": {
    "name": "ipython",
    "version": 3
   },
   "file_extension": ".py",
   "mimetype": "text/x-python",
   "name": "python",
   "nbconvert_exporter": "python",
   "pygments_lexer": "ipython3",
   "version": "3.5.2"
  },
  "widgets": {
   "state": {},
   "version": "1.1.2"
  }
 },
 "nbformat": 4,
 "nbformat_minor": 1
}
